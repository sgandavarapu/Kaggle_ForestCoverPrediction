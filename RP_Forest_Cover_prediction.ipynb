{
 "cells": [
  {
   "cell_type": "code",
   "execution_count": null,
   "metadata": {
    "collapsed": true
   },
   "outputs": [],
   "source": [
    "Team Members: Sashi Gandavarapu & Raghu Pamidimarri"
   ]
  },
  {
   "cell_type": "markdown",
   "metadata": {},
   "source": [
    "Questions:\n",
    "    1. Why is knn better than Naive Bayes, LR, SVM? kNN works well with large sample size and fewer features. \n",
    "    2. How about NV, LR - Why do they not perform well? Even with GridSearch, they are not good. \n",
    "    3. Why is Random Forest the best here?\n",
    "    4. Does any amount of tuning help other algorithms?\n",
    "    5. Identify all the stuff that you can tune.\n",
    " \n",
    " Things to try :\n",
    " 1. Optimize Random forest - grid search\n",
    " 2. Submit to kaggle and see the output\n",
    " 3. Try neural net\n",
    " 4. Visualize the data\n",
    " 5. Read/Investigate what other things you can do to the features? PCA? Clustering?"
   ]
  },
  {
   "cell_type": "code",
   "execution_count": 10,
   "metadata": {
    "collapsed": false
   },
   "outputs": [],
   "source": [
    "import pandas as pd\n",
    "import numpy as np\n",
    "from sklearn.preprocessing import StandardScaler\n",
    "from sklearn.ensemble import GradientBoostingClassifier  #GBM algorithm\n",
    "from sklearn import cross_validation, metrics   #Additional scklearn functions\n",
    "from sklearn.grid_search import GridSearchCV   #Perforing grid search\n",
    "from sklearn.ensemble import RandomForestClassifier\n",
    "import matplotlib as plt\n",
    "from sklearn.cross_validation import train_test_split\n",
    "from sklearn.svm import SVC\n",
    "from sklearn.naive_bayes import BernoulliNB\n",
    "from sklearn.naive_bayes import MultinomialNB\n",
    "from sklearn.neighbors import KNeighborsClassifier\n",
    "from sklearn.linear_model import LogisticRegression\n",
    "\n",
    "%matplotlib inline\n",
    "from matplotlib.pylab import rcParams\n",
    "rcParams['figure.figsize'] = 12, 4"
   ]
  },
  {
   "cell_type": "code",
   "execution_count": 39,
   "metadata": {
    "collapsed": false
   },
   "outputs": [
    {
     "name": "stdout",
     "output_type": "stream",
     "text": [
      "Shape of training data: (15120, 56)\n",
      "Shape of test data: (565892, 55)\n",
      "Frequency of target values: 7    2160\n",
      "6    2160\n",
      "5    2160\n",
      "4    2160\n",
      "3    2160\n",
      "2    2160\n",
      "1    2160\n",
      "Name: Cover_Type, dtype: int64\n"
     ]
    }
   ],
   "source": [
    "#Read data\n",
    "train = pd.read_csv(\"train.csv\")\n",
    "#Comment out the loading of test data below. Load it only when you really have to test out.\n",
    "test = pd.read_csv(\"test.csv\")\n",
    "sampleSubmission = pd.read_csv(\"sampleSubmission.csv\")\n",
    "\n",
    "target = 'Cover_Type'\n",
    "\n",
    "#shuffle train data\n",
    "train = train.sample(frac=1.0)\n",
    "\n",
    "print 'Shape of training data:', train.shape\n",
    "print 'Shape of test data:', test.shape\n",
    "print 'Frequency of target values:', train.Cover_Type.value_counts()\n",
    "#print 'columns:', train.columns\n",
    "#print 'first value:', train.values[0]\n"
   ]
  },
  {
   "cell_type": "code",
   "execution_count": 40,
   "metadata": {
    "collapsed": false
   },
   "outputs": [
    {
     "name": "stdout",
     "output_type": "stream",
     "text": [
      "['Elevation', 'Aspect', 'Slope', 'Horizontal_Distance_To_Hydrology', 'Vertical_Distance_To_Hydrology', 'Horizontal_Distance_To_Roadways', 'Hillshade_9am', 'Hillshade_Noon', 'Hillshade_3pm', 'Horizontal_Distance_To_Fire_Points', 'Wilderness_Area1', 'Wilderness_Area2', 'Wilderness_Area3', 'Wilderness_Area4', 'Soil_Type1', 'Soil_Type2', 'Soil_Type3', 'Soil_Type4', 'Soil_Type5', 'Soil_Type6', 'Soil_Type7', 'Soil_Type8', 'Soil_Type9', 'Soil_Type10', 'Soil_Type11', 'Soil_Type12', 'Soil_Type13', 'Soil_Type14', 'Soil_Type15', 'Soil_Type16', 'Soil_Type17', 'Soil_Type18', 'Soil_Type19', 'Soil_Type20', 'Soil_Type21', 'Soil_Type22', 'Soil_Type23', 'Soil_Type24', 'Soil_Type25', 'Soil_Type26', 'Soil_Type27', 'Soil_Type28', 'Soil_Type29', 'Soil_Type30', 'Soil_Type31', 'Soil_Type32', 'Soil_Type33', 'Soil_Type34', 'Soil_Type35', 'Soil_Type36', 'Soil_Type37', 'Soil_Type38', 'Soil_Type39', 'Soil_Type40']\n",
      "54\n",
      "[-1.28649362  0.23004042  0.65041899 -1.08153228 -0.83407423 -0.16529773\n",
      "  0.23873152  1.27337056  0.30304838 -0.54472882 -0.55871128 -0.18474034\n",
      " -0.85080123  1.49473228 -0.15505917 -0.2073027  -0.26066732 -0.24299386\n",
      " -0.10503856 -0.21194463  0.         -0.00813277 -0.02572573 -0.40626167\n",
      " -0.16611071 -0.12345874 -0.18029082 -0.10631835  0.         -0.08716055\n",
      "  4.86886869 -0.06311944 -0.0552414  -0.09632455 -0.03254723 -0.1528079\n",
      " -0.22957541 -0.13149624 -0.00813277 -0.05986843 -0.03151267 -0.02440477\n",
      " -0.30553976 -0.22442083 -0.14983536 -0.2186711  -0.20608504 -0.03817259\n",
      " -0.08241268 -0.02572573 -0.04747363 -0.22490811 -0.21313437 -0.1769394 ]\n"
     ]
    }
   ],
   "source": [
    "IDcol = 'Id'\n",
    "predictors = [x for x in train.columns if x not in [target, IDcol]]\n",
    "scaler = StandardScaler()\n",
    "print predictors\n",
    "print len(predictors)\n",
    "\n",
    "#standard scaler\n",
    "train[predictors] = scaler.fit_transform(train[predictors])\n",
    "print train[predictors].values[0]\n",
    "test[predictors] = scaler.transform(test[predictors])"
   ]
  },
  {
   "cell_type": "code",
   "execution_count": 36,
   "metadata": {
    "collapsed": true
   },
   "outputs": [],
   "source": [
    "def modelfit(alg, X, Y, performCV=True, printFeatureImportance=True, cv_folds=5):\n",
    "    #Fit the algorithm on the data\n",
    "    alg.fit(X,Y)\n",
    "        \n",
    "    #Predict training set:\n",
    "    dtrain_predictions = alg.predict(X)\n",
    "    \n",
    "    #Perform cross-validation:\n",
    "    #Where is this cross validation used?\n",
    "    if performCV:\n",
    "        cv_score = cross_validation.cross_val_score(alg, X, Y, cv=cv_folds, scoring='f1_weighted')\n",
    "        print \"CV (f1) Score : Mean - %.7g | Std - %.7g | Min - %.7g | Max - %.7g \\n\" % \\\n",
    "        (np.mean(cv_score),np.std(cv_score),np.min(cv_score),np.max(cv_score))\n",
    "    \n",
    "    #Print model report:\n",
    "    print \"\\nModel Report\"\n",
    "    print \"Accuracy (Train): %.4g\" % metrics.accuracy_score(Y.values, dtrain_predictions)\n",
    "    #print metrics.classification_report(Y.values, dtrain_predictions)\n",
    "        \n",
    "    #Print Feature Importance:\n",
    "    if printFeatureImportance:\n",
    "        feat_imp = pd.Series(alg.feature_importances_, list(X_fit.columns.values)).sort_values(ascending=False)\n",
    "        feat_imp.plot(kind='bar', title='Feature Importances')"
   ]
  },
  {
   "cell_type": "code",
   "execution_count": 37,
   "metadata": {
    "collapsed": false
   },
   "outputs": [],
   "source": [
    "#Split into training and development dataset\n",
    "X_fit, X_eval, y_fit, y_eval= train_test_split(train[predictors], train[target], test_size=0.3,random_state=10)"
   ]
  },
  {
   "cell_type": "code",
   "execution_count": 19,
   "metadata": {
    "collapsed": false
   },
   "outputs": [
    {
     "name": "stdout",
     "output_type": "stream",
     "text": [
      "-------knn-------------\n",
      "CV (f1) Score : Mean - 0.7547403 | Std - 0.005220015 | Min - 0.7476633 | Max - 0.7617288 \n",
      "\n",
      "\n",
      "Model Report\n",
      "Accuracy (Train): 0.8533\n",
      "Accuracy (Dev) : 0.7703\n",
      "-------knn grid search-------\n",
      "Best value for k for KNN: 1\n",
      "--------trying with the best value of k----------\n",
      "CV (f1) Score : Mean - 0.7898557 | Std - 0.00912891 | Min - 0.7793695 | Max - 0.802834 \n",
      "\n",
      "\n",
      "Model Report\n",
      "Accuracy (Train): 1\n",
      "Accuracy (Dev) : 0.7925\n"
     ]
    }
   ],
   "source": [
    "#1. Try knn\n",
    "knn = KNeighborsClassifier()\n",
    "print \"-------knn-------------\"\n",
    "modelfit(knn, X_fit, y_fit,printFeatureImportance=False)\n",
    "preds = knn.predict(X_eval)\n",
    "print \"Accuracy (Dev) : %.4g\" % metrics.accuracy_score(y_eval.values, preds)\n",
    "\n",
    "#Try GridSearch for best k\n",
    "#NOTE: 1. Best value of k is actually 1 and NOT the default 5 => accuracy increases for kNN with grid search\n",
    "#with k=1, train accuracy is 1!! and dev accuracy is 0.8047\n",
    "print \"-------knn grid search-------\"\n",
    "kValues = {'n_neighbors': [1,2,3,4,5,100]}\n",
    "clf = GridSearchCV(KNeighborsClassifier(), kValues)\n",
    "clf.fit(X_fit, y_fit)\n",
    "kValue = clf.best_params_['n_neighbors']\n",
    "print 'Best value for k for KNN:', kValue\n",
    "\n",
    "print \"--------trying with the best value of k----------\"\n",
    "knn_best = KNeighborsClassifier(n_neighbors=kValue)\n",
    "modelfit(knn_best, X_fit, y_fit,printFeatureImportance=False)\n",
    "preds = knn_best.predict(X_eval)\n",
    "print \"Accuracy (Dev) : %.4g\" % metrics.accuracy_score(y_eval.values, preds)\n",
    "#print metrics.classification_report(y_eval.values, preds)\n"
   ]
  },
  {
   "cell_type": "code",
   "execution_count": 20,
   "metadata": {
    "collapsed": false
   },
   "outputs": [
    {
     "name": "stdout",
     "output_type": "stream",
     "text": [
      "-------NB-------------\n",
      "CV (f1) Score : Mean - 0.6123439 | Std - 0.007309852 | Min - 0.6004559 | Max - 0.6199209 \n",
      "\n",
      "\n",
      "Model Report\n",
      "Accuracy (Train): 0.6334\n",
      "Accuracy (Dev) : 0.6184\n",
      "Best value for alpha: 1e-05\n",
      "-------NB With Best Alpha-------------\n",
      "CV (f1) Score : Mean - 0.6131231 | Std - 0.007799842 | Min - 0.6013001 | Max - 0.6232742 \n",
      "\n",
      "\n",
      "Model Report\n",
      "Accuracy (Train): 0.6335\n",
      "Accuracy (Dev) : 0.6184\n"
     ]
    }
   ],
   "source": [
    "#2. Try NB\n",
    "bnb = BernoulliNB(binarize=0.5)\n",
    "print \"-------NB-------------\"\n",
    "modelfit(bnb, X_fit, y_fit,printFeatureImportance=False)\n",
    "preds = bnb.predict(X_eval)\n",
    "print \"Accuracy (Dev) : %.4g\" % metrics.accuracy_score(y_eval.values, preds)\n",
    "#print metrics.classification_report(y_eval.values, preds)\n",
    "\n",
    "\n",
    "\n",
    "#NOTE: The best value of alpha is 0.00001 => smoothing has no impact on this. In fact, the default smoothing = 0 is better!\n",
    "alphas = {'alpha': [0.00001, 0.0001, 0.001, 0.01, 0.1, 0.5, 1.0, 2.0, 10.0]}\n",
    "clf = GridSearchCV(BernoulliNB(), alphas)\n",
    "clf.fit(X_fit, y_fit)\n",
    "best_alpha = clf.best_params_['alpha']\n",
    "print 'Best value for alpha:', best_alpha\n",
    "\n",
    "print \"-------NB With Best Alpha-------------\"\n",
    "bnb = BernoulliNB(binarize=0.5, alpha=best_alpha)\n",
    "modelfit(bnb, X_fit, y_fit,printFeatureImportance=False)\n",
    "preds = bnb.predict(X_eval)\n",
    "print \"Accuracy (Dev) : %.4g\" % metrics.accuracy_score(y_eval.values, preds)"
   ]
  },
  {
   "cell_type": "code",
   "execution_count": 21,
   "metadata": {
    "collapsed": false
   },
   "outputs": [],
   "source": [
    "#2. Try Multinomial NB\n",
    "#NOTE: Multinomial NB does not work with negative values for features!! And we got negative because of standardScaler.\n",
    "#mnb = MultinomialNB()\n",
    "#print \"-------Multinomial NB-------------\"\n",
    "#modelfit(mnb, X_fit, y_fit,printFeatureImportance=False)\n",
    "#preds = mnb.predict(X_eval)\n",
    "#print \"Accuracy (Dev) : %.4g\" % metrics.accuracy_score(y_eval.values, preds)\n",
    "#print metrics.classification_report(y_eval.values, preds)"
   ]
  },
  {
   "cell_type": "code",
   "execution_count": 22,
   "metadata": {
    "collapsed": false
   },
   "outputs": [
    {
     "name": "stdout",
     "output_type": "stream",
     "text": [
      "-------Logistic Regression-------------\n",
      "CV (f1) Score : Mean - 0.670386 | Std - 0.01152108 | Min - 0.6543321 | Max - 0.6829296 \n",
      "\n",
      "\n",
      "Model Report\n",
      "Accuracy (Train): 0.6794\n",
      "Accuracy (Dev) : 0.6669\n"
     ]
    }
   ],
   "source": [
    "#3. Logistic regression\n",
    "#With larger samples (15k samples with only 54 features), the low bias + high variance logistic regression works better than\n",
    "#the high bias, low variance naive bayes.\n",
    "lgr = LogisticRegression()\n",
    "print \"-------Logistic Regression-------------\"\n",
    "modelfit(lgr, X_fit, y_fit,printFeatureImportance=False)\n",
    "preds = lgr.predict(X_eval)\n",
    "print \"Accuracy (Dev) : %.4g\" % metrics.accuracy_score(y_eval.values, preds)\n",
    "#print metrics.classification_report(y_eval.values, preds)"
   ]
  },
  {
   "cell_type": "code",
   "execution_count": 23,
   "metadata": {
    "collapsed": false
   },
   "outputs": [
    {
     "name": "stdout",
     "output_type": "stream",
     "text": [
      "Best value for C for Logistic Regression: 10000\n",
      "-------Logistic Regression with tuned parameters-------------\n",
      "\n",
      "Model Report\n",
      "Accuracy (Train): 0.6802\n",
      "Accuracy (Dev) : 0.6744\n"
     ]
    }
   ],
   "source": [
    "#Try these multiples of 10\n",
    "cValues = {'C': [0.01, 0.1, 1, 10, 100, 1000, 10000, 100000]}\n",
    "clf = GridSearchCV(LogisticRegression(), cValues)\n",
    "clf.fit(X_fit, y_fit)\n",
    "cValue = clf.best_params_['C'] \n",
    "print 'Best value for C for Logistic Regression:', cValue\n",
    "\n",
    "lgr = LogisticRegression(C=cValue, penalty='l2')\n",
    "print \"-------Logistic Regression with tuned parameters-------------\"\n",
    "modelfit(lgr, X_fit, y_fit,performCV=False,printFeatureImportance=False)\n",
    "preds = lgr.predict(X_eval)\n",
    "print \"Accuracy (Dev) : %.4g\" % metrics.accuracy_score(y_eval.values, preds)\n",
    "#print metrics.classification_report(y_eval.values, preds)"
   ]
  },
  {
   "cell_type": "code",
   "execution_count": 28,
   "metadata": {
    "collapsed": false
   },
   "outputs": [
    {
     "name": "stdout",
     "output_type": "stream",
     "text": [
      "-------SVM-------------\n",
      "CV (f1) Score : Mean - 0.7165307 | Std - 0.009851047 | Min - 0.698652 | Max - 0.7252397 \n",
      "\n",
      "\n",
      "Model Report\n",
      "Accuracy (Train): 0.746\n",
      "Accuracy (Dev) : 0.7211\n"
     ]
    }
   ],
   "source": [
    "#4. SVM\n",
    "svm = SVC()\n",
    "print \"-------SVM-------------\"\n",
    "modelfit(svm, X_fit, y_fit,printFeatureImportance=False)\n",
    "preds = svm.predict(X_eval)\n",
    "print \"Accuracy (Dev) : %.4g\" % metrics.accuracy_score(y_eval.values, preds)\n",
    "#print metrics.classification_report(y_eval.values, preds)"
   ]
  },
  {
   "cell_type": "code",
   "execution_count": 29,
   "metadata": {
    "collapsed": false
   },
   "outputs": [
    {
     "name": "stdout",
     "output_type": "stream",
     "text": [
      "-------Find the best parameters for SVM-------------\n",
      "\n",
      "Model Report\n",
      "Accuracy (Train): 0.8044\n",
      "Accuracy (Dev) : 0.7743\n"
     ]
    }
   ],
   "source": [
    "#5. Tune SVM\n",
    "print \"-------Find the best parameters for SVM-------------\"\n",
    "#tuned_parameters = [{'kernel': ['rbf'], 'gamma': [1e-3, 1e-4],\n",
    "#                     'C': [1, 10, 100, 1000]},\n",
    "#                    {'kernel': ['linear'], 'C': [1, 10, 100, 1000]}]\n",
    "#clf = GridSearchCV(SVC(), tuned_parameters)\n",
    "#clf.fit(X_fit, y_fit)\n",
    "#print clf.best_params_\n",
    "#The above returns {'kernel': 'rbf', 'C': 1000, 'gamma': 0.001}\n",
    "svm_tuned = SVC(C=1000, gamma=0.001, kernel='rbf')\n",
    "modelfit(svm_tuned, X_fit, y_fit,performCV=False,printFeatureImportance=False)\n",
    "preds = svm_tuned.predict(X_eval)\n",
    "print \"Accuracy (Dev) : %.4g\" % metrics.accuracy_score(y_eval.values, preds)\n",
    "#print \"Accuracy (Dev) : %.4g\" % metrics.accuracy_score(y_eval.values, preds)\n",
    "#print metrics.classification_report(y_eval.values, preds)"
   ]
  },
  {
   "cell_type": "code",
   "execution_count": 25,
   "metadata": {
    "collapsed": false
   },
   "outputs": [
    {
     "name": "stdout",
     "output_type": "stream",
     "text": [
      "CV (f1) Score : Mean - 0.7868372 | Std - 0.01214745 | Min - 0.7653121 | Max - 0.8013393 \n",
      "\n",
      "\n",
      "Model Report\n",
      "Accuracy (Train): 0.8484\n",
      "Accuracy (Dev) : 0.7943\n"
     ]
    },
    {
     "data": {
      "image/png": "[encoded data removed]",
      "text/plain": [
       "<matplotlib.figure.Figure at 0x11794c850>"
      ]
     },
     "metadata": {},
     "output_type": "display_data"
    }
   ],
   "source": [
    "#Let's try GBM\n",
    "gbm0 = GradientBoostingClassifier(random_state=10)\n",
    "modelfit(gbm0, X_fit, y_fit)\n",
    "#Evaluate on development data\n",
    "preds = gbm0.predict(X_eval)\n",
    "print \"Accuracy (Dev) : %.4g\" % metrics.accuracy_score(y_eval.values, preds)\n",
    "#print metrics.classification_report(y_eval.values, preds)"
   ]
  },
  {
   "cell_type": "code",
   "execution_count": 26,
   "metadata": {
    "collapsed": false
   },
   "outputs": [
    {
     "name": "stdout",
     "output_type": "stream",
     "text": [
      "CV (f1) Score : Mean - 0.8125913 | Std - 0.01233316 | Min - 0.7914229 | Max - 0.8279662 \n",
      "\n",
      "\n",
      "Model Report\n",
      "Accuracy (Train): 0.9944\n",
      "Accuracy (Dev) : 0.823\n",
      "             precision    recall  f1-score   support\n",
      "\n",
      "          1       0.73      0.73      0.73       648\n",
      "          2       0.72      0.63      0.68       645\n",
      "          3       0.77      0.80      0.79       659\n",
      "          4       0.92      0.95      0.94       653\n",
      "          5       0.89      0.91      0.90       647\n",
      "          6       0.79      0.79      0.79       645\n",
      "          7       0.91      0.95      0.93       639\n",
      "\n",
      "avg / total       0.82      0.82      0.82      4536\n",
      "\n"
     ]
    },
    {
     "data": {
      "image/png": "[encoded data removed]",
      "text/plain": [
       "<matplotlib.figure.Figure at 0x12178a490>"
      ]
     },
     "metadata": {},
     "output_type": "display_data"
    }
   ],
   "source": [
    "#let's try Random Forest model\n",
    "rfc = RandomForestClassifier(random_state=10)\n",
    "modelfit(rfc, X_fit, y_fit)\n",
    "#Evaluate on development data\n",
    "preds = rfc.predict(X_eval)\n",
    "print \"Accuracy (Dev) : %.4g\" % metrics.accuracy_score(y_eval.values, preds)\n",
    "print metrics.classification_report(y_eval.values, preds)"
   ]
  },
  {
   "cell_type": "code",
   "execution_count": 32,
   "metadata": {
    "collapsed": false
   },
   "outputs": [
    {
     "name": "stdout",
     "output_type": "stream",
     "text": [
      "-------Find the best parameters for RandomForest-------------\n",
      "\n",
      "Model Report\n",
      "Accuracy (Train): 1\n",
      "Accuracy (Dev) : 0.8485\n",
      "             precision    recall  f1-score   support\n",
      "\n",
      "          1       0.77      0.73      0.75       648\n",
      "          2       0.76      0.69      0.72       645\n",
      "          3       0.82      0.82      0.82       659\n",
      "          4       0.93      0.96      0.95       653\n",
      "          5       0.89      0.93      0.91       647\n",
      "          6       0.82      0.85      0.84       645\n",
      "          7       0.92      0.95      0.94       639\n",
      "\n",
      "avg / total       0.85      0.85      0.85      4536\n",
      "\n"
     ]
    }
   ],
   "source": [
    "#Let's try tuning random forest\n",
    "#Start with max_features= sq.rt(features) - http://scikit-learn.org/stable/modules/ensemble.html (1.11.2.3)\n",
    "print \"-------Find the best parameters for RandomForest-------------\"\n",
    "#tune_params = {'n_estimators': [10,20,30,40,50,100], 'max_features':[6,7,8,9,15]}\n",
    "#clf = GridSearchCV(RandomForestClassifier(), tune_params)\n",
    "#clf.fit(X_fit, y_fit)\n",
    "#print 'Best parametrs for RandomForest:', clf.best_params_\n",
    "#The output from above - Best parametrs for RandomForest: {'max_features': 9, 'n_estimators': 100}\n",
    "trfc = RandomForestClassifier(max_features=9, n_estimators=100)\n",
    "modelfit(trfc, X_fit, y_fit,performCV=False,printFeatureImportance=False)\n",
    "#Evaluate on development data\n",
    "preds = trfc.predict(X_eval)\n",
    "print \"Accuracy (Dev) : %.4g\" % metrics.accuracy_score(y_eval.values, preds)\n",
    "print metrics.classification_report(y_eval.values, preds)\n"
   ]
  },
  {
   "cell_type": "code",
   "execution_count": 38,
   "metadata": {
    "collapsed": false
   },
   "outputs": [],
   "source": [
    "#Submission of test values -- Run this once after finalizing model\n",
    "preds = rfc.predict(test[predictors])\n",
    "submission = pd.DataFrame({\"Id\":test[IDcol], \"Cover_Type\":preds})\n",
    "submission.to_csv(\"submission.csv\", index=False)"
   ]
  },
  {
   "cell_type": "code",
   "execution_count": 96,
   "metadata": {
    "collapsed": false
   },
   "outputs": [],
   "source": [
    "#Next Steps\n",
    "    \n",
    "#Tried few models learned so far in the class.\n",
    "#Next steps include feature engineering to find more relevant features\n",
    "#Also, to try other types of models, particularly neural networks. Continue tuning of the above models by performing gridsearch\n",
    "#Currnet accuracy benchmark is 0.83 on dev data and 0.59 on public leaderboard"
   ]
  }
 ],
 "metadata": {
  "kernelspec": {
   "display_name": "Python 2",
   "language": "python",
   "name": "python2"
  },
  "language_info": {
   "codemirror_mode": {
    "name": "ipython",
    "version": 2
   },
   "file_extension": ".py",
   "mimetype": "text/x-python",
   "name": "python",
   "nbconvert_exporter": "python",
   "pygments_lexer": "ipython2",
   "version": "2.7.11"
  }
 },
 "nbformat": 4,
 "nbformat_minor": 0
}
