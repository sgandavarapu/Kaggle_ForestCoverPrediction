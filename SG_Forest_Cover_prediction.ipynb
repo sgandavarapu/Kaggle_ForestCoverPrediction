{
 "cells": [
  {
   "cell_type": "code",
   "execution_count": null,
   "metadata": {
    "collapsed": true
   },
   "outputs": [],
   "source": [
    "Team Members: Sashi Gandavarapu & Raghu Pamidimarri"
   ]
  },
  {
   "cell_type": "code",
   "execution_count": 81,
   "metadata": {
    "collapsed": false
   },
   "outputs": [],
   "source": [
    "import pandas as pd\n",
    "import numpy as np\n",
    "from sklearn.preprocessing import StandardScaler\n",
    "from sklearn.ensemble import GradientBoostingClassifier  #GBM algorithm\n",
    "from sklearn import cross_validation, metrics   #Additional scklearn functions\n",
    "from sklearn.grid_search import GridSearchCV   #Perforing grid search\n",
    "from sklearn.ensemble import RandomForestClassifier\n",
    "import matplotlib as plt\n",
    "from sklearn.cross_validation import train_test_split\n",
    "from sklearn.svm import SVC\n",
    "from sklearn.naive_bayes import BernoulliNB\n",
    "from sklearn.neighbors import KNeighborsClassifier\n",
    "from sklearn.linear_model import LogisticRegression\n",
    "\n",
    "%matplotlib inline\n",
    "from matplotlib.pylab import rcParams\n",
    "rcParams['figure.figsize'] = 12, 4"
   ]
  },
  {
   "cell_type": "code",
   "execution_count": 82,
   "metadata": {
    "collapsed": true
   },
   "outputs": [],
   "source": [
    "#Read data\n",
    "train = pd.read_csv(\"train.csv\")\n",
    "test = pd.read_csv(\"test.csv\")\n",
    "sampleSubmission = pd.read_csv(\"sampleSubmission.csv\")\n",
    "\n",
    "target = 'Cover_Type'\n",
    "\n",
    "#shuffle train data\n",
    "train = train.sample(frac=1.0)"
   ]
  },
  {
   "cell_type": "code",
   "execution_count": 83,
   "metadata": {
    "collapsed": false
   },
   "outputs": [
    {
     "name": "stdout",
     "output_type": "stream",
     "text": [
      "        Id  Elevation  Aspect  Slope  Horizontal_Distance_To_Hydrology  \\\n",
      "8305  8306       3327      18      9                               631   \n",
      "40      41       2699     347      3                                 0   \n",
      "\n",
      "      Vertical_Distance_To_Hydrology  Horizontal_Distance_To_Roadways  \\\n",
      "8305                              93                              793   \n",
      "40                                 0                             2096   \n",
      "\n",
      "      Hillshade_9am  Hillshade_Noon  Hillshade_3pm     ...      Soil_Type32  \\\n",
      "8305            213             221            144     ...                1   \n",
      "40              213             234            159     ...                0   \n",
      "\n",
      "      Soil_Type33  Soil_Type34  Soil_Type35  Soil_Type36  Soil_Type37  \\\n",
      "8305            0            0            0            0            0   \n",
      "40              0            0            0            0            0   \n",
      "\n",
      "      Soil_Type38  Soil_Type39  Soil_Type40  Cover_Type  \n",
      "8305            0            0            0           7  \n",
      "40              0            0            0           1  \n",
      "\n",
      "[2 rows x 56 columns]\n",
      "length of train data:  15120\n",
      "length of test data:  565892\n",
      "frequency of target variable \n",
      "7    2160\n",
      "6    2160\n",
      "5    2160\n",
      "4    2160\n",
      "3    2160\n",
      "2    2160\n",
      "1    2160\n",
      "Name: Cover_Type, dtype: int64\n"
     ]
    }
   ],
   "source": [
    "#Examine trian data\n",
    "print train[1:3]\n",
    "print 'length of train data: ', len(train)\n",
    "print 'length of test data: ', len(test)\n",
    "print 'frequency of target variable \\n' , train.Cover_Type.value_counts()"
   ]
  },
  {
   "cell_type": "code",
   "execution_count": 84,
   "metadata": {
    "collapsed": false
   },
   "outputs": [],
   "source": [
    "IDcol = 'Id'\n",
    "predictors = [x for x in train.columns if x not in [target, IDcol]]\n",
    "scaler = StandardScaler()\n",
    "\n",
    "#standard scaler\n",
    "train[predictors] = scaler.fit_transform(train[predictors])\n",
    "test[predictors] = scaler.transform(test[predictors])"
   ]
  },
  {
   "cell_type": "code",
   "execution_count": 88,
   "metadata": {
    "collapsed": true
   },
   "outputs": [],
   "source": [
    "def modelfit(alg, X, Y, performCV=True, printFeatureImportance=True, cv_folds=5):\n",
    "    #Fit the algorithm on the data\n",
    "    alg.fit(X,Y)\n",
    "        \n",
    "    #Predict training set:\n",
    "    dtrain_predictions = alg.predict(X)\n",
    "    \n",
    "    #Perform cross-validation:\n",
    "    if performCV:\n",
    "        cv_score = cross_validation.cross_val_score(alg, X, Y, cv=cv_folds, scoring='f1_weighted')\n",
    "    \n",
    "    #Print model report:\n",
    "    print \"\\nModel Report\"\n",
    "    print \"Accuracy (Train): %.4g\" % metrics.accuracy_score(Y.values, dtrain_predictions)\n",
    "    #print metrics.classification_report(Y.values, dtrain_predictions)\n",
    "    \n",
    "    if performCV:\n",
    "        print \"CV (f1) Score : Mean - %.7g | Std - %.7g | Min - %.7g | Max - %.7g \\n\" % \\\n",
    "        (np.mean(cv_score),np.std(cv_score),np.min(cv_score),np.max(cv_score))\n",
    "        \n",
    "    #Print Feature Importance:\n",
    "    if printFeatureImportance:\n",
    "        feat_imp = pd.Series(alg.feature_importances_, list(X_fit.columns.values)).sort_values(ascending=False)\n",
    "        feat_imp.plot(kind='bar', title='Feature Importances')"
   ]
  },
  {
   "cell_type": "code",
   "execution_count": 86,
   "metadata": {
    "collapsed": false
   },
   "outputs": [],
   "source": [
    "#Split into training and development dataset\n",
    "X_fit, X_eval, y_fit, y_eval= train_test_split(train[predictors], train[target], test_size=0.3,random_state=10)"
   ]
  },
  {
   "cell_type": "code",
   "execution_count": 89,
   "metadata": {
    "collapsed": false
   },
   "outputs": [
    {
     "name": "stdout",
     "output_type": "stream",
     "text": [
      "-------knn-------------\n",
      "\n",
      "Model Report\n",
      "Accuracy (Train): 0.8539\n",
      "CV (f1) Score : Mean - 0.7597465 | Std - 0.01236613 | Min - 0.746616 | Max - 0.7798488 \n",
      "\n",
      "Accuracy (Dev) : 0.7725\n",
      "-------NB-------------\n",
      "\n",
      "Model Report\n",
      "Accuracy (Train): 0.6205\n",
      "CV (f1) Score : Mean - 0.6020481 | Std - 0.01113991 | Min - 0.5874641 | Max - 0.6128976 \n",
      "\n",
      "Accuracy (Dev) : 0.6398\n",
      "-------Logistic Regression-------------\n",
      "\n",
      "Model Report\n",
      "Accuracy (Train): 0.6743\n",
      "CV (f1) Score : Mean - 0.6642321 | Std - 0.009208766 | Min - 0.6509457 | Max - 0.6746319 \n",
      "\n",
      "Accuracy (Dev) : 0.6861\n",
      "-------SVM-------------\n",
      "\n",
      "Model Report\n",
      "Accuracy (Train): 0.742\n",
      "CV (f1) Score : Mean - 0.7186072 | Std - 0.004294983 | Min - 0.713979 | Max - 0.7266754 \n",
      "\n",
      "Accuracy (Dev) : 0.7392\n"
     ]
    }
   ],
   "source": [
    "#1. Try knn\n",
    "knn = KNeighborsClassifier()\n",
    "print \"-------knn-------------\"\n",
    "modelfit(knn, X_fit, y_fit,printFeatureImportance=False)\n",
    "preds = knn.predict(X_eval)\n",
    "print \"Accuracy (Dev) : %.4g\" % metrics.accuracy_score(y_eval.values, preds)\n",
    "#print metrics.classification_report(y_eval.values, preds)\n",
    "\n",
    "#2. Try NB\n",
    "bnb = BernoulliNB(binarize=0.5)\n",
    "print \"-------NB-------------\"\n",
    "modelfit(bnb, X_fit, y_fit,printFeatureImportance=False)\n",
    "preds = bnb.predict(X_eval)\n",
    "print \"Accuracy (Dev) : %.4g\" % metrics.accuracy_score(y_eval.values, preds)\n",
    "#print metrics.classification_report(y_eval.values, preds)\n",
    "\n",
    "#3. Logistic regression\n",
    "lgr = LogisticRegression()\n",
    "print \"-------Logistic Regression-------------\"\n",
    "modelfit(lgr, X_fit, y_fit,printFeatureImportance=False)\n",
    "preds = lgr.predict(X_eval)\n",
    "print \"Accuracy (Dev) : %.4g\" % metrics.accuracy_score(y_eval.values, preds)\n",
    "#print metrics.classification_report(y_eval.values, preds)\n",
    "\n",
    "#4. SVM\n",
    "svm = SVC()\n",
    "print \"-------SVM-------------\"\n",
    "modelfit(svm, X_fit, y_fit,printFeatureImportance=False)\n",
    "preds = svm.predict(X_eval)\n",
    "print \"Accuracy (Dev) : %.4g\" % metrics.accuracy_score(y_eval.values, preds)\n",
    "#print metrics.classification_report(y_eval.values, preds)"
   ]
  },
  {
   "cell_type": "code",
   "execution_count": 90,
   "metadata": {
    "collapsed": false
   },
   "outputs": [
    {
     "name": "stdout",
     "output_type": "stream",
     "text": [
      "\n",
      "Model Report\n",
      "Accuracy (Train): 0.8477\n",
      "CV (f1) Score : Mean - 0.7829293 | Std - 0.008510691 | Min - 0.7707187 | Max - 0.7953887 \n",
      "\n",
      "Accuracy (Dev) : 0.7941\n"
     ]
    },
    {
     "data": {
      "image/png": "[encoded data removed]",
      "text/plain": [
       "<matplotlib.figure.Figure at 0x4e3fbf60>"
      ]
     },
     "metadata": {},
     "output_type": "display_data"
    }
   ],
   "source": [
    "#Let's try GBM\n",
    "gbm0 = GradientBoostingClassifier(random_state=10)\n",
    "modelfit(gbm0, X_fit, y_fit)\n",
    "#Evaluate on development data\n",
    "preds = gbm0.predict(X_eval)\n",
    "print \"Accuracy (Dev) : %.4g\" % metrics.accuracy_score(y_eval.values, preds)\n",
    "#print metrics.classification_report(y_eval.values, preds)"
   ]
  },
  {
   "cell_type": "code",
   "execution_count": 91,
   "metadata": {
    "collapsed": false
   },
   "outputs": [
    {
     "name": "stdout",
     "output_type": "stream",
     "text": [
      "\n",
      "Model Report\n",
      "Accuracy (Train): 0.9939\n",
      "CV (f1) Score : Mean - 0.8144384 | Std - 0.009147397 | Min - 0.8053383 | Max - 0.8274795 \n",
      "\n",
      "Accuracy (Dev) : 0.8265\n",
      "             precision    recall  f1-score   support\n",
      "\n",
      "          1       0.70      0.78      0.74       644\n",
      "          2       0.77      0.65      0.70       684\n",
      "          3       0.77      0.78      0.77       639\n",
      "          4       0.92      0.96      0.94       636\n",
      "          5       0.88      0.92      0.90       650\n",
      "          6       0.81      0.79      0.80       646\n",
      "          7       0.95      0.92      0.93       637\n",
      "\n",
      "avg / total       0.83      0.83      0.83      4536\n",
      "\n"
     ]
    },
    {
     "data": {
      "image/png": "[encoded data removed]",
      "text/plain": [
       "<matplotlib.figure.Figure at 0x6af57a20>"
      ]
     },
     "metadata": {},
     "output_type": "display_data"
    }
   ],
   "source": [
    "#let's try Random Forest model\n",
    "rfc = RandomForestClassifier(random_state=10)\n",
    "modelfit(rfc, X_fit, y_fit)\n",
    "#Evaluate on development data\n",
    "preds = rfc.predict(X_eval)\n",
    "print \"Accuracy (Dev) : %.4g\" % metrics.accuracy_score(y_eval.values, preds)\n",
    "print metrics.classification_report(y_eval.values, preds)"
   ]
  },
  {
   "cell_type": "code",
   "execution_count": 92,
   "metadata": {
    "collapsed": false
   },
   "outputs": [],
   "source": [
    "#Submission of test values -- Run this once after finalizing model\n",
    "preds = rfc.predict(test[predictors])\n",
    "submission = pd.DataFrame({\"Id\":test[IDcol], \"Cover_Type\":preds})\n",
    "submission.to_csv(\"submission.csv\", index=False)"
   ]
  },
  {
   "cell_type": "code",
   "execution_count": 96,
   "metadata": {
    "collapsed": false
   },
   "outputs": [],
   "source": [
    "#Next Steps\n",
    "    \n",
    "#Tried few models learned so far in the class.\n",
    "#Next steps include feature engineering to find more relevant features\n",
    "#Also, to try other types of models, particularly neural networks. Continue tuning of the above models by performing gridsearch\n",
    "#Currnet accuracy benchmark is 0.83 on dev data and 0.59 on public leaderboard"
   ]
  }
 ],
 "metadata": {
  "kernelspec": {
   "display_name": "Python 2",
   "language": "python",
   "name": "python2"
  },
  "language_info": {
   "codemirror_mode": {
    "name": "ipython",
    "version": 2
   },
   "file_extension": ".py",
   "mimetype": "text/x-python",
   "name": "python",
   "nbconvert_exporter": "python",
   "pygments_lexer": "ipython2",
   "version": "2.7.11"
  }
 },
 "nbformat": 4,
 "nbformat_minor": 0
}
